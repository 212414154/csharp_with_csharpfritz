{
 "cells": [
  {
   "cell_type": "markdown",
   "metadata": {},
   "source": [
    "# Session 3: Making your own classes - Methods, Events, Operators\n",
    "\n",
    "We learned in our last session about how to make classes with properties, constructors, and fields.  We're going to continue adding features to our classes so that we can act on our classes and receive notifications about our classes.\n",
    "\n",
    "## Methods\n",
    "\n",
    "<div class=\"alert alert-block alert-info\">\n",
    "    Previously in Session 2, we wrote constructors to allow you to control the creation of classes.  These are _methods_ but this time we will expand on what we've previously learned\n",
    "</div>\n",
    "\n",
    "[Methods are defined in the official documentation](https://docs.microsoft.com/dotnet/csharp/programming-guide/classes-and-structs/methods) as a code block containing a series of statements that the program can execute.  We're going to expand on that definition to also state that a method can (but is not required) return values to its caller. We typically think of methods as an action that our class _performs_ or an _acting on_ the class.\n",
    "\n",
    "A method has a **signature** that defines how you can interact with it.  The signature is followed immediately by curly braces **{ }** that wrap the code to be executed in the method and takes the following format:\n",
    "\n",
    "_\\[Access Modifier]*_ **Return Type** **Name**(_\\[Parameters]_)  \n",
    "\n",
    "Parameters are comma-delimited and defined similar to our variables with their type and name of the parameter:\n",
    "\n",
    "`int myFirstParameter`\n",
    "\n",
    "Let's take a look at some simple methods in a `Student` class:"
   ]
  },
  {
   "cell_type": "code",
   "execution_count": 1,
   "metadata": {},
   "outputs": [
    {
     "data": {
      "text/html": [
       "\r\n",
       "<div>\r\n",
       "    <div id='dotnet-interactive-this-cell-6256.807abfdf40c341208d9d5f0be7a48e30' style='display: none'>\r\n",
       "        The below script needs to be able to find the current output cell; this is an easy method to get it.\r\n",
       "    </div>\r\n",
       "    <script type='text/javascript'>\r\n",
       "// ensure `require` is available globally\r\n",
       "if (typeof require !== typeof Function || typeof require.config !== typeof Function) {\r\n",
       "    let require_script = document.createElement('script');\r\n",
       "    require_script.setAttribute('src', 'https://cdnjs.cloudflare.com/ajax/libs/require.js/2.3.6/require.min.js');\r\n",
       "    require_script.setAttribute('type', 'text/javascript');\r\n",
       "    require_script.onload = function () {\r\n",
       "        loadDotnetInteractiveApi();\r\n",
       "    };\r\n",
       "\r\n",
       "    document.getElementsByTagName('head')[0].appendChild(require_script);\r\n",
       "}\r\n",
       "else {\r\n",
       "    loadDotnetInteractiveApi();\r\n",
       "}\r\n",
       "\r\n",
       "async function probeAddresses(probingAddresses) {\r\n",
       "    function timeout(ms, promise) {\r\n",
       "        return new Promise(function (resolve, reject) {\r\n",
       "            setTimeout(function () {\r\n",
       "                reject(new Error('timeout'))\r\n",
       "            }, ms)\r\n",
       "            promise.then(resolve, reject)\r\n",
       "        })\r\n",
       "    }\r\n",
       "\r\n",
       "    if (Array.isArray(probingAddresses)) {\r\n",
       "        for (let i = 0; i < probingAddresses.length; i++) {\r\n",
       "\r\n",
       "            let rootUrl = probingAddresses[i];\r\n",
       "\r\n",
       "            if (!rootUrl.endsWith('/')) {\r\n",
       "                rootUrl = `${rootUrl}/`;\r\n",
       "            }\r\n",
       "\r\n",
       "            try {\r\n",
       "                let response = await timeout(1000, fetch(`${rootUrl}discovery`, {\r\n",
       "                    method: 'POST',\r\n",
       "                    cache: 'no-cache',\r\n",
       "                    mode: 'cors',\r\n",
       "                    timeout: 1000,\r\n",
       "                    headers: {\r\n",
       "                        'Content-Type': 'text/plain'\r\n",
       "                    },\r\n",
       "                    body: probingAddresses[i]\r\n",
       "                }));\r\n",
       "\r\n",
       "                if (response.status == 200) {\r\n",
       "                    return rootUrl;\r\n",
       "                }\r\n",
       "            }\r\n",
       "            catch (e) { }\r\n",
       "        }\r\n",
       "    }\r\n",
       "}\r\n",
       "\r\n",
       "function loadDotnetInteractiveApi() {\r\n",
       "    probeAddresses([\"http://192.168.1.151:1024/\", \"http://127.0.0.1:1024/\"])\r\n",
       "        .then((root) => {\r\n",
       "            // use probing to find host url and api resources\r\n",
       "            // load interactive helpers and language services\r\n",
       "            let dotnetInteractiveRequire = require.config({\r\n",
       "                context: '6256.807abfdf40c341208d9d5f0be7a48e30',\r\n",
       "                paths: {\r\n",
       "                    'dotnet-interactive': `${root}resources`\r\n",
       "                }\r\n",
       "            }) || require;\r\n",
       "\r\n",
       "            let dotnetInteractiveExtensionsRequire = require.config({\r\n",
       "                context: '6256.807abfdf40c341208d9d5f0be7a48e30',\r\n",
       "                paths: {\r\n",
       "                    'dotnet-interactive-extensions': `${root}extensions`\r\n",
       "                }\r\n",
       "            }) || require;\r\n",
       "            if (!window.dotnetInteractiveRequire) {\r\n",
       "                window.dotnetInteractiveRequire = dotnetInteractiveRequire;\r\n",
       "            }\r\n",
       "\r\n",
       "            if (!window.dotnetInteractiveExtensionsRequire) {\r\n",
       "                window.dotnetInteractiveExtensionsRequire = dotnetInteractiveExtensionsRequire;\r\n",
       "            }\r\n",
       "\r\n",
       "            window.getExtensionRequire = function(extensionName, extensionCacheBuster) {\r\n",
       "                let paths = {};\r\n",
       "                paths[extensionName] = `${root}extensions/${extensionName}/resources/`;\r\n",
       "                \r\n",
       "                let internalRequire = require.config({\r\n",
       "                    context: extensionCacheBuster,\r\n",
       "                    paths: paths,\r\n",
       "                    urlArgs: `cacheBuster=${extensionCacheBuster}`\r\n",
       "                    }) || require;\r\n",
       "\r\n",
       "                return internalRequire\r\n",
       "            };\r\n",
       "        \r\n",
       "            dotnetInteractiveRequire([\r\n",
       "                    'dotnet-interactive/dotnet-interactive'\r\n",
       "                ],\r\n",
       "                function (dotnet) {\r\n",
       "                    dotnet.init(window);\r\n",
       "                },\r\n",
       "                function (error) {\r\n",
       "                    console.log(error);\r\n",
       "                }\r\n",
       "            );\r\n",
       "        })\r\n",
       "        .catch(error => {console.log(error);});\r\n",
       "    }\r\n",
       "    </script>\r\n",
       "</div>"
      ]
     },
     "metadata": {},
     "output_type": "display_data"
    },
    {
     "data": {
      "text/html": [
       "<div class=\"dni-plaintext\">0.95</div>"
      ]
     },
     "metadata": {},
     "output_type": "display_data"
    }
   ],
   "source": [
    "class Student {\n",
    "    \n",
    "    public void Enroll() {\n",
    "        // do enrollment steps\n",
    "    }\n",
    "    \n",
    "    internal void LeaveClassEarly(DateTime departureTime) {\n",
    "        // leave class code\n",
    "    }\n",
    "    \n",
    "    public decimal CalculateGradeForClass(string className) {\n",
    "        \n",
    "        // grade calculation code\n",
    "        \n",
    "        // This method returns a value of type decimal \n",
    "        return 0.95m;\n",
    "    }\n",
    "    \n",
    "}\n",
    "\n",
    "var s = new Student();\n",
    "display(s.CalculateGradeForClass(\"Quantum Physics\"));"
   ]
  },
  {
   "cell_type": "markdown",
   "metadata": {},
   "source": [
    "Method access modifiers can be `public`, `protected`, `private`, `internal`, `protected internal`.  They can also be marked `static` to indicate that the method runs for all instances of the class and cannot access individual fields and properties of the class.  We'll see more about `static` and other modifiers like `override`, `virtual` and `abstract` in session 4.\n",
    "\n",
    "### The Magic params Parameter and Optional Parameters\n",
    "\n",
    "There is a special 'catch-all' `params` keyword you can use in your methods that will catch any arguments that are passed in to the method.  Let's update our student with the ability to calculate grade point average:"
   ]
  },
  {
   "cell_type": "code",
   "execution_count": 2,
   "metadata": {},
   "outputs": [
    {
     "data": {
      "text/plain": [
       "Calculating for class Algebra"
      ]
     },
     "metadata": {},
     "output_type": "display_data"
    },
    {
     "data": {
      "text/plain": [
       "Calculating for class History"
      ]
     },
     "metadata": {},
     "output_type": "display_data"
    },
    {
     "data": {
      "text/plain": [
       "Calculating for class Computer Science"
      ]
     },
     "metadata": {},
     "output_type": "display_data"
    },
    {
     "data": {
      "text/html": [
       "<div class=\"dni-plaintext\">0.9</div>"
      ]
     },
     "metadata": {},
     "output_type": "display_data"
    }
   ],
   "source": [
    "class Student {\n",
    "\n",
    "    public decimal CalculateGradePointAverage(params string[] classes) {\n",
    "        \n",
    "        foreach(var c in classes) {\n",
    "            display(\"Calculating for class \" + c);\n",
    "        }\n",
    "        \n",
    "        return 0.9m;\n",
    "        \n",
    "    }\n",
    "    \n",
    "}\n",
    "\n",
    "var s = new Student();\n",
    "display(s.CalculateGradePointAverage(\"Algebra\", \"History\", \"Computer Science\"));"
   ]
  },
  {
   "cell_type": "markdown",
   "metadata": {},
   "source": [
    "Other arguments can be made optional by adding a default value to them:"
   ]
  },
  {
   "cell_type": "code",
   "execution_count": 3,
   "metadata": {},
   "outputs": [
    {
     "data": {
      "text/plain": [
       "Calculating GPA for year 2019"
      ]
     },
     "metadata": {},
     "output_type": "display_data"
    },
    {
     "data": {
      "text/plain": [
       "Calculating for class Algebra"
      ]
     },
     "metadata": {},
     "output_type": "display_data"
    },
    {
     "data": {
      "text/plain": [
       "Calculating for class History"
      ]
     },
     "metadata": {},
     "output_type": "display_data"
    },
    {
     "data": {
      "text/plain": [
       "Calculating for class Computer Science"
      ]
     },
     "metadata": {},
     "output_type": "display_data"
    },
    {
     "data": {
      "text/html": [
       "<div class=\"dni-plaintext\">0.9</div>"
      ]
     },
     "metadata": {},
     "output_type": "display_data"
    }
   ],
   "source": [
    "class Student {\n",
    "    \n",
    "    public decimal CalculateGradePointAverage(short enrollmentYear = 2020, params string[] classes) {\n",
    "\n",
    "        display(\"Calculating GPA for year \" + enrollmentYear);\n",
    "        \n",
    "        foreach(var c in classes) {\n",
    "            display(\"Calculating for class \" + c);\n",
    "        }\n",
    "        \n",
    "        return 0.9m;\n",
    "        \n",
    "    }\n",
    "    \n",
    "}\n",
    "\n",
    "var s = new Student();\n",
    "display(s.CalculateGradePointAverage(2019, \"Algebra\", \"History\", \"Computer Science\"));"
   ]
  },
  {
   "cell_type": "markdown",
   "metadata": {},
   "source": [
    "### Out and Ref\n",
    "\n",
    "Parameters passed into the method can **ALSO** take modifiers to set their interactions with the method.  The parameters can be passed both in and **OUT** as well as by value and by reference into the method.  This may seem a litle strange, so let's take a look at some samples.\n",
    "\n",
    "We'll look at the `out` and `ref` keywords in this demo.  `out` specifies that a parameter is set as an output and `ref` indicates that a parameter is passed by reference.  If these keywords are used in a method's parameter signature, they must also be used when executing the method."
   ]
  },
  {
   "cell_type": "code",
   "execution_count": 4,
   "metadata": {},
   "outputs": [
    {
     "data": {
      "text/html": [
       "<div class=\"dni-plaintext\">True</div>"
      ]
     },
     "metadata": {},
     "output_type": "display_data"
    },
    {
     "data": {
      "text/plain": [
       "student id: 1234567"
      ]
     },
     "metadata": {},
     "output_type": "display_data"
    },
    {
     "data": {
      "text/plain": [
       "Year: 2020"
      ]
     },
     "metadata": {},
     "output_type": "display_data"
    }
   ],
   "source": [
    "class Student {\n",
    "    \n",
    "    // Enroll and return a success indicator as well as the new StudentId\n",
    "    public bool Enroll(short year, out string studentId) {\n",
    "        \n",
    "        // Enrollment code\n",
    "        \n",
    "        studentId = \"1234567\";\n",
    "        return true;\n",
    "        \n",
    "    }\n",
    "\n",
    "    public void DoSomething(ref int myValue) {\n",
    "        myValue++;\n",
    "    }\n",
    "    \n",
    "}\n",
    "\n",
    "var s= new Student();\n",
    "string id = \"\";\n",
    "short year = 2020;\n",
    "\n",
    "display(s.Enroll(year, out id));\n",
    "display(\"student id: \" + id);\n",
    "display(\"Year: \" + year);"
   ]
  },
  {
   "cell_type": "markdown",
   "metadata": {},
   "source": [
    "The id is set in our method and MUST be set before the method ends to be returned properly.  Let's look at the `DoSomething` method that receives a value **ByReference** as indicated by the `ref` keyword.  Check out the behavior of `myValue` and tinker with adding and removing the `ref` keyword to see its behavior."
   ]
  },
  {
   "cell_type": "code",
   "execution_count": 5,
   "metadata": {},
   "outputs": [
    {
     "data": {
      "text/html": [
       "<div class=\"dni-plaintext\">11</div>"
      ]
     },
     "metadata": {},
     "output_type": "display_data"
    }
   ],
   "source": [
    "int myValue = 10;\n",
    "s.DoSomething(ref myValue);\n",
    "display(myValue);"
   ]
  },
  {
   "cell_type": "markdown",
   "metadata": {},
   "source": [
    "The `myValue` integer is a **value type** and is passed as a reference into the `DoSomething` method where it is modified.  The reference to the `myValue` variable is updated inside the method, and its value reflects that update.\n",
    "\n",
    "Reference types, those types we create with the `class` keyword like `Student` are **ALWAYS** passed by reference into methods. \n",
    "\n",
    "## Delegates\n",
    "\n",
    "Now that we know what a method is and how to interact with them, sometimes we want to pass a pointer to that method around our program.  This pointer to the method is called a **Delegate** and allows us to call the method from another location.  Delegates are defined with the method signature that they need to match in order to reference that method.  The [official documentation on delegates](https://docs.microsoft.com/dotnet/csharp/programming-guide/delegates/) has more on defining a delegate.\n",
    "\n",
    "Let's take a look at passing a delegate for a pointer into another method."
   ]
  },
  {
   "cell_type": "code",
   "execution_count": 6,
   "metadata": {},
   "outputs": [
    {
     "data": {
      "text/plain": [
       "Added: 15"
      ]
     },
     "metadata": {},
     "output_type": "display_data"
    }
   ],
   "source": [
    "\n",
    "class Student {\n",
    "    \n",
    "    public delegate int CalculateHandler(int myArg1, int myArg2);\n",
    "    \n",
    "    public int Calculate(int arg1, int arg2, CalculateHandler handler) {\n",
    "        \n",
    "        var output = handler(arg1, arg2);\n",
    "        return output;\n",
    "        \n",
    "    }\n",
    "    \n",
    "    public int Add(int arg1, int arg2) {\n",
    "        var output = arg1 + arg2;\n",
    "        display(\"Added: \" + output);\n",
    "        return output;\n",
    "    }\n",
    "    \n",
    "    public int Subtract(int arg1, int arg2) {\n",
    "        var output = arg1 - arg2;\n",
    "        display(\"Subtracted: \" + output);\n",
    "        return output;\n",
    "    }\n",
    "    \n",
    "}\n",
    "\n",
    "var s = new Student();\n",
    "\n",
    "// instantiating a delegate is used with a NEW keyword wrapping the name of the method to be assigned\n",
    "var calcHandler = new Student.CalculateHandler(s.Add);\n",
    "s.Calculate(10, 5, calcHandler);"
   ]
  },
  {
   "cell_type": "markdown",
   "metadata": {},
   "source": [
    "We can also assign **anonymous methods** to a delegate to be passed around.  An anonymous method is defined with some paraenthesis enclosing the parameter list and an expression body indicated with the fat-arrow `=>` notation.  \n",
    "\n",
    "Consider this code to work with our Student CalculateHandler:"
   ]
  },
  {
   "cell_type": "code",
   "execution_count": 7,
   "metadata": {},
   "outputs": [
    {
     "data": {
      "text/html": [
       "<div class=\"dni-plaintext\">50</div>"
      ]
     },
     "metadata": {},
     "output_type": "display_data"
    }
   ],
   "source": [
    "var s = new Student();\n",
    "\n",
    "var multiply = new Student.CalculateHandler((int arg1, int arg2) => arg1 * arg2);\n",
    "display(s.Calculate(10, 5, multiply));"
   ]
  },
  {
   "cell_type": "markdown",
   "metadata": {},
   "source": [
    "We can also directly cast a delegate when the type is specifed, allowing for implicit conversion to the delegate type.  This makes our code a little more terse, but the intent is still clear:\n"
   ]
  },
  {
   "cell_type": "code",
   "execution_count": 8,
   "metadata": {},
   "outputs": [
    {
     "data": {
      "text/plain": [
       "Added: 15"
      ]
     },
     "metadata": {},
     "output_type": "display_data"
    }
   ],
   "source": [
    "var s = new Student();\n",
    "\n",
    "s.Calculate(10, 5, s.Add);"
   ]
  },
  {
   "cell_type": "markdown",
   "metadata": {},
   "source": [
    "### Multicast delegates\n",
    "\n",
    "Defined delegate types can be **multicast** allowing them to point to multiple methods to be called.  This sounds a LITTLE weird, but it means that we can stack executions and pass that entire stack into another method.  Let's take a look at that `Student` and `CalculateHandler` from our previous example again."
   ]
  },
  {
   "cell_type": "code",
   "execution_count": 9,
   "metadata": {},
   "outputs": [
    {
     "data": {
      "text/plain": [
       "Added: 15"
      ]
     },
     "metadata": {},
     "output_type": "display_data"
    },
    {
     "data": {
      "text/plain": [
       "Subtracted: 5"
      ]
     },
     "metadata": {},
     "output_type": "display_data"
    }
   ],
   "source": [
    "var s = new Student();\n",
    "\n",
    "// Define an initial delegate variable\n",
    "var calculation = new Student.CalculateHandler(s.Add) + new Student.CalculateHandler(s.Subtract);\n",
    "\n",
    "/*\n",
    "calculation += new Student.CalculateHandler((int arg1, int arg2) => {\n",
    "    var outValue = arg1 * arg2;\n",
    "    display(\"Multiplied: \" + outValue);\n",
    "    return outValue;\n",
    "});\n",
    "*/\n",
    "\n",
    "s.Calculate(10, 5, calculation);"
   ]
  },
  {
   "cell_type": "markdown",
   "metadata": {},
   "source": [
    "Delegates can be combined with `+` and `-` operators to stack them and remove them from the stack to be executed.  As we'll see with **Events** in the next section, adding and removing references to delegates is very important."
   ]
  },
  {
   "cell_type": "markdown",
   "metadata": {},
   "source": [
    "## Events\n",
    "\n",
    "[Events](https://docs.microsoft.com/dotnet/csharp/programming-guide/events/) allow us to notify when something has happened inside of our class.  Events build on the concept of delegates as they reference another method that should be called when the event is **raised**.  We define an event with access modifiers and by .NET standard practice, two arguments:  the sender and a class that contains any arguments about the event being raised.  The return type from an event is a delegate of type `EventHandler` that defines these two arguments.  \n",
    "\n",
    "Let's look at a simple example:"
   ]
  },
  {
   "cell_type": "code",
   "execution_count": 10,
   "metadata": {},
   "outputs": [],
   "source": [
    "class EnrolledEventArgs : EventArgs {\n",
    "    public short YearEnrolled {get; set;}\n",
    "}\n",
    "\n",
    "class Student {\n",
    "    \n",
    "    \n",
    "    public delegate void EnrolledEventHandler(object sender, EnrolledEventArgs args);\n",
    "    public event EnrolledEventHandler Enrolled;\n",
    "    \n",
    "    public void Enroll() {\n",
    "        \n",
    "        // do something\n",
    "        Enrolled(this, new EnrolledEventArgs {YearEnrolled = 2020});\n",
    "        \n",
    "    }\n",
    "    \n",
    "}\n",
    "\n",
    "var s = new Student();\n",
    "s.Enrolled += (sender, args) => display(\"I'm now enrolled for the year \" + args.YearEnrolled);\n",
    "// s.Enroll();"
   ]
  }
 ],
 "metadata": {
  "kernelspec": {
   "display_name": ".NET (C#)",
   "language": "C#",
   "name": ".net-csharp"
  },
  "language_info": {
   "file_extension": ".cs",
   "mimetype": "text/x-csharp",
   "name": "C#",
   "pygments_lexer": "csharp",
   "version": "8.0"
  }
 },
 "nbformat": 4,
 "nbformat_minor": 4
}
