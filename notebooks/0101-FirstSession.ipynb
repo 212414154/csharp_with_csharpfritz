{
 "cells": [
  {
   "cell_type": "markdown",
   "metadata": {},
   "source": [
    "# Session 1: Types, Keywords, and Operators with C#  #\n",
    "\n",
    "In this first session, we're going to start learning about object-oriented programming with C#.  We'll touch on the very basics around variable types, language keywords, and how we can use operators to make variables work together for us.\n",
    "\n",
    "## What is C# ?  #\n",
    "\n",
    "C# is a statically-typed, compiled, object-oriented language used with the .NET frameworks and runtimes.  Similar to Java in syntax and structure, C# programs are compiled and executed against a .NET runtime running on a computer.  The output of compiling C# code can be called a '.NET program'.\n",
    "\n",
    "> A .NET Runtime is a collection of commands native to the computer operating system that instruct the computer how to interpret and run a .NET program. \n",
    "\n",
    "There are several different .NET runtimes available that give C# flexibility to run in many different locations.\n",
    "\n",
    " - .NET Framework - runs on Windows and support desktop user-interface, console, and server development\n",
    " - .NET Core - runs on Windows, Mac, and Linux with support for desktop user-interface, console, and server development\n",
    " - Xamarin - runs on iOS and Android devices with support for native application development on those devices\n",
    " - Unity - runs on Windows, Mac, Linux, iOS, and Android devices with support for game development using the Unity3D tools\n",
    " - Mono - runs on Windows, Mac, Linux, and Web Assembly\n",
    " \n",
    "> A .NET Framework is a collection of programming instructions and tools that help you write a program of a specific type.  Examples of .NET Frameworks include Windows Forms, ASP.NET, Xamarin iOS, and Blazor\n",
    " \n",
    "C# requires a .NET runtime and frameworks for the appropriate program type to run.  The definition of the framework and runtime for a C# program are stored in a `.csproj` file.  We'll learn more about this file and structure in a future lesson.  For now, know that the .NET tools will help construct and manage this file for you when you specify what type of program you want to create.\n",
    "\n",
    "## C# uses a semi-colon to denote the end of a statement  #\n",
    "\n",
    "This is a hard and fast rule, and you'll get used to it quickly.  Every statement in C# needs to end with a semi-colon `;`  This allows us to also have very flexible spacing in how we structure our code.\n",
    "\n",
    "## Comment Syntax\n",
    "\n",
    "You can write comments by using the two forward-slash characters to indicate everything after them is a comment."
   ]
  },
  {
   "cell_type": "code",
   "execution_count": 1,
   "metadata": {},
   "outputs": [
    {
     "data": {
      "text/html": [
       "\r\n",
       "<div>\r\n",
       "    <div id='dotnet-interactive-this-cell-16488.b4cfec8db26c4647a1994eb9939e8942' style='display: none'>\r\n",
       "        The below script needs to be able to find the current output cell; this is an easy method to get it.\r\n",
       "    </div>\r\n",
       "    <script type='text/javascript'>\r\n",
       "// ensure `require` is available globally\r\n",
       "if (typeof require !== typeof Function || typeof require.config !== typeof Function) {\r\n",
       "    let require_script = document.createElement('script');\r\n",
       "    require_script.setAttribute('src', 'https://cdnjs.cloudflare.com/ajax/libs/require.js/2.3.6/require.min.js');\r\n",
       "    require_script.setAttribute('type', 'text/javascript');\r\n",
       "    require_script.onload = function () {\r\n",
       "        loadDotnetInteractiveApi();\r\n",
       "    };\r\n",
       "\r\n",
       "    document.getElementsByTagName('head')[0].appendChild(require_script);\r\n",
       "}\r\n",
       "else {\r\n",
       "    loadDotnetInteractiveApi();\r\n",
       "}\r\n",
       "\r\n",
       "async function probeAddresses(probingAddresses) {\r\n",
       "    function timeout(ms, promise) {\r\n",
       "        return new Promise(function (resolve, reject) {\r\n",
       "            setTimeout(function () {\r\n",
       "                reject(new Error('timeout'))\r\n",
       "            }, ms)\r\n",
       "            promise.then(resolve, reject)\r\n",
       "        })\r\n",
       "    }\r\n",
       "\r\n",
       "    if (Array.isArray(probingAddresses)) {\r\n",
       "        for (let i = 0; i < probingAddresses.length; i++) {\r\n",
       "\r\n",
       "            let rootUrl = probingAddresses[i];\r\n",
       "\r\n",
       "            if (!rootUrl.endsWith('/')) {\r\n",
       "                rootUrl = `${rootUrl}/`;\r\n",
       "            }\r\n",
       "\r\n",
       "            try {\r\n",
       "                let response = await timeout(1000, fetch(`${rootUrl}discovery`, {\r\n",
       "                    method: 'POST',\r\n",
       "                    cache: 'no-cache',\r\n",
       "                    mode: 'cors',\r\n",
       "                    timeout: 1000,\r\n",
       "                    headers: {\r\n",
       "                        'Content-Type': 'text/plain'\r\n",
       "                    },\r\n",
       "                    body: probingAddresses[i]\r\n",
       "                }));\r\n",
       "\r\n",
       "                if (response.status == 200) {\r\n",
       "                    return rootUrl;\r\n",
       "                }\r\n",
       "            }\r\n",
       "            catch (e) { }\r\n",
       "        }\r\n",
       "    }\r\n",
       "}\r\n",
       "\r\n",
       "function loadDotnetInteractiveApi() {\r\n",
       "    probeAddresses([\"http://10.0.75.1:1000/\", \"http://192.168.1.17:1000/\", \"http://192.168.244.1:1000/\", \"http://127.0.0.1:1000/\"])\r\n",
       "        .then((root) => {\r\n",
       "            // use probing to find host url and api resources\r\n",
       "            // load interactive helpers and language services\r\n",
       "            let dotnet_require = require.config({\r\n",
       "                context: '16488.b4cfec8db26c4647a1994eb9939e8942',\r\n",
       "                paths: {\r\n",
       "                    'dotnet-interactive': `${root}resources`\r\n",
       "                }\r\n",
       "            }) || require;\r\n",
       "            if (!window.dotnet_require) {\r\n",
       "                window.dotnet_require = dotnet_require;\r\n",
       "            }\r\n",
       "        \r\n",
       "            dotnet_require([\r\n",
       "                    'dotnet-interactive/dotnet-interactive'\r\n",
       "                ],\r\n",
       "                function (dotnet) {\r\n",
       "                    dotnet.init(window);\r\n",
       "                },\r\n",
       "                function (error) {\r\n",
       "                    console.log(error);\r\n",
       "                }\r\n",
       "            );\r\n",
       "        })\r\n",
       "        .catch(error => {console.log(error);});\r\n",
       "    }\r\n",
       "    </script>\r\n",
       "</div>"
      ]
     },
     "metadata": {},
     "output_type": "display_data"
    }
   ],
   "source": [
    "// This is a comment"
   ]
  },
  {
   "cell_type": "markdown",
   "metadata": {},
   "source": [
    "You can create comments that span multiple lines by using slash asterish fencing like the following:"
   ]
  },
  {
   "cell_type": "code",
   "execution_count": 2,
   "metadata": {},
   "outputs": [],
   "source": [
    "/*\n",
    "This is a multi-line comment\n",
    "\n",
    "and this is still commented out\n",
    "*/"
   ]
  },
  {
   "cell_type": "markdown",
   "metadata": {},
   "source": [
    "## Everything in C# is an object   #\n",
    "\n",
    "As C# is an object oriented language, everything we want to work with is an object.  Objects can be declared of various **TYPES** and then interacted with.  The simplest types in C# are called [**Built-In Types**](https://docs.microsoft.com/dotnet/csharp/language-reference/builtin-types/built-in-types)\n",
    "\n",
    "We can define variables, in-memory storage for a type by preceeding the name of the variable we would like to create with the type of the variable we are creating."
   ]
  },
  {
   "cell_type": "code",
   "execution_count": 3,
   "metadata": {},
   "outputs": [],
   "source": [
    "int i;"
   ]
  },
  {
   "cell_type": "markdown",
   "metadata": {},
   "source": [
    "That's not very exciting, but we created a 32-bit integer named `i`.  We can initialize a variable with an `=` assignment at the time of declaration."
   ]
  },
  {
   "cell_type": "code",
   "execution_count": 4,
   "metadata": {},
   "outputs": [
    {
     "data": {
      "text/html": [
       "10"
      ]
     },
     "execution_count": 4,
     "metadata": {},
     "output_type": "execute_result"
    }
   ],
   "source": [
    "int i = 10;\n",
    "i"
   ]
  },
  {
   "cell_type": "markdown",
   "metadata": {},
   "source": [
    "### The var keyword\n",
    "\n",
    "Sometimes, its a little cumbersome to declare a variable, assign a value, and have to specify the type before it.  C# has built-in type inference and you can use the `var` keyword to force the compiler to detect the actual type being created  and set the variable to the type of the value being assigned."
   ]
  },
  {
   "cell_type": "code",
   "execution_count": 5,
   "metadata": {},
   "outputs": [
    {
     "data": {
      "text/html": [
       "10"
      ]
     },
     "execution_count": 5,
     "metadata": {},
     "output_type": "execute_result"
    }
   ],
   "source": [
    "var i = 10;\n",
    "i"
   ]
  },
  {
   "cell_type": "markdown",
   "metadata": {},
   "source": [
    "You can **ONLY** use the `var` keyword when creating and assigning the variable in one statement."
   ]
  },
  {
   "cell_type": "markdown",
   "metadata": {},
   "source": [
    "### Real Literals\n",
    "\n",
    "We can declare double, float, and decimal types with simple numeric notation, but we need to force the literal numbers we assign to be the correct type to match the variable type expected.\n",
    "\n",
    "To do this, we add a `d`, `f`, or `m` suffix to a number being assigned."
   ]
  },
  {
   "cell_type": "code",
   "execution_count": 6,
   "metadata": {},
   "outputs": [
    {
     "data": {
      "text/html": [
       "<span><a href=\"https://docs.microsoft.com/dotnet/api/System.Double?view=netcore-3.0\">System.Double</a></span>"
      ]
     },
     "execution_count": 6,
     "metadata": {},
     "output_type": "execute_result"
    }
   ],
   "source": [
    "var myNumber = 4d;\n",
    "myNumber.GetType()"
   ]
  },
  {
   "cell_type": "markdown",
   "metadata": {},
   "source": [
    "## Operators\n",
    "\n",
    "Now that we have some basic types and can create variables, it would sure be nice to have them interact with each other."
   ]
  }
 ],
 "metadata": {
  "kernelspec": {
   "display_name": ".NET (C#)",
   "language": "C#",
   "name": ".net-csharp"
  },
  "language_info": {
   "file_extension": ".cs",
   "mimetype": "text/x-csharp",
   "name": "C#",
   "pygments_lexer": "csharp",
   "version": "8.0"
  }
 },
 "nbformat": 4,
 "nbformat_minor": 4
}
