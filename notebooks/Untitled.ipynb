{
 "cells": [
  {
   "cell_type": "markdown",
   "metadata": {},
   "source": [
    "# Session 3: Making your own classes - Methods, Events, Operators\n",
    "\n",
    "We learned in our last session about how to make classes with properties, constructors, and fields.  We're going to continue adding features to our classes so that we can act on our classes and receive notifications about our classes.\n",
    "\n",
    "## Methods\n",
    "\n",
    "Previously, we wrote constructors to allow you to create "
   ]
  }
 ],
 "metadata": {
  "kernelspec": {
   "display_name": ".NET (C#)",
   "language": "C#",
   "name": ".net-csharp"
  },
  "language_info": {
   "file_extension": ".cs",
   "mimetype": "text/x-csharp",
   "name": "C#",
   "pygments_lexer": "csharp",
   "version": "8.0"
  }
 },
 "nbformat": 4,
 "nbformat_minor": 4
}
