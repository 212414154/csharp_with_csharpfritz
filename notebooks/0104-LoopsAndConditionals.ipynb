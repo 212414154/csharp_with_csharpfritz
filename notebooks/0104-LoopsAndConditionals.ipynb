{
 "cells": [
  {
   "cell_type": "markdown",
   "source": [
    "# Session 4: Loops and Conditionals\n",
    "\n",
    "Common to every programming language are the concepts of loops or repeated execution of the same block of code and conditional execution of code.  These features are typically manifest as the following statements:\n",
    "\n",
    "- `for` \n",
    "- `while`\n",
    "- `do`\n",
    "- `if`\n",
    "- `switch` or `case`\n",
    "\n",
    "## Conditionals\n",
    "\n",
    "There are two statement-level conditional interactions in C#:  `if` and `switch...case` statements.  `If` statements can be combined with any number of `else if` statements and a single `else` statement to route code flow and interactions across branches of code.  ([Link to official docs](https://docs.microsoft.com/dotnet/csharp/language-reference/keywords/if-else?WT.mc_id=visualstudio-twitch-jefritz))\n",
    "\n",
    "Let's take a look at a simple `if` statement.  You can re-run this code by clicking on the code and clicking the 'Play' button above or using the `Ctrl+Enter` hotkey"
   ],
   "metadata": {}
  },
  {
   "cell_type": "code",
   "execution_count": null,
   "source": [
    "var seconds = DateTime.Now.Second;\r\n",
    "display(\"Current seconds: \" + seconds);\r\n",
    "\r\n",
    "// A simple test, are the number of seconds a multiple of 2?\r\n",
    "if ( seconds % 2 == 0 ) {\r\n",
    "    \r\n",
    "    // Do this thing when seconds are even\r\n",
    "    display(\"seconds are even\");\r\n",
    "    \r\n",
    "}"
   ],
   "outputs": [
    {
     "data": {
      "text/plain": [
       "Current seconds: 47"
      ]
     },
     "metadata": {},
     "output_type": "display_data"
    }
   ],
   "metadata": {
    "dotnet_interactive": {
     "language": "csharp"
    }
   }
  },
  {
   "cell_type": "markdown",
   "source": [
    "The `if` statement starts with the if keyword and continues with a test in parenthesis.  Next, the code to be executed if the test evaluates to true is contained within curly braces `{ }`.  The use of braces is optional, as long as the code to be executed is a single line."
   ],
   "metadata": {}
  },
  {
   "cell_type": "code",
   "execution_count": null,
   "source": [
    "var seconds = DateTime.Now.Second;\r\n",
    "display(\"Current seconds: \" + seconds);\r\n",
    "\r\n",
    "// One line if statement\r\n",
    "if (seconds % 2 == 0) display(\"Seconds are even\");\r\n",
    "\r\n",
    "if (seconds % 2 == 1)\r\n",
    "    display(\"Seconds are odd\");\r\n",
    "\r\n",
    "\r\n",
    "    display(\"This will always execute, even though it LOOKS LIKE its in the if statement\");"
   ],
   "outputs": [
    {
     "data": {
      "text/plain": [
       "Current seconds: 58"
      ]
     },
     "metadata": {},
     "output_type": "display_data"
    },
    {
     "data": {
      "text/plain": [
       "Seconds are even"
      ]
     },
     "metadata": {},
     "output_type": "display_data"
    },
    {
     "data": {
      "text/plain": [
       "This will always execute, even though it LOOKS LIKE its in the if statement"
      ]
     },
     "metadata": {},
     "output_type": "display_data"
    }
   ],
   "metadata": {
    "dotnet_interactive": {
     "language": "csharp"
    }
   }
  },
  {
   "cell_type": "markdown",
   "source": [
    "Great, if the condition is met we can execute some code.  What if we need some more complex branching and potentially apply secondary tests and code if those tests return false?  We can start using the `else` and `else if` syntax to add these additional branches of code to be executed. \n",
    "\n",
    "Let's look a more complex branching scenario:"
   ],
   "metadata": {}
  },
  {
   "cell_type": "code",
   "execution_count": null,
   "source": [
    "var seconds = DateTime.Now.Second;\r\n",
    "display(\"Current seconds: \" + seconds);\r\n",
    "\r\n",
    "if (seconds % 2 == 0) {\r\n",
    "    display(\"Seconds are even\");\r\n",
    "} else if (seconds % 3 == 0) {\r\n",
    "    display(\"Seconds are a multiple of 3\");\r\n",
    "} else if (seconds % 5 == 0) {\r\n",
    "    display(\"Seconds are a multiple of 5\");\r\n",
    "} else {\r\n",
    "    display(\"Seconds are neither even nor a multiple of 3\");\r\n",
    "}\r\n",
    "\r\n",
    "if (seconds % 2 == 0)          display(\"Seconds are even\");\r\n",
    "else if (seconds % 3 == 0)     display(\"Seconds are a multiple of 3\");\r\n",
    "else if (seconds % 5 == 0)     display(\"Seconds are a multiple of 5\");\r\n",
    "else                           display(\"Seconds are neither even nor a multiple of 3\");\r\n"
   ],
   "outputs": [
    {
     "data": {
      "text/plain": [
       "Current seconds: 45"
      ]
     },
     "metadata": {},
     "output_type": "display_data"
    },
    {
     "data": {
      "text/plain": [
       "Seconds are a multiple of 3"
      ]
     },
     "metadata": {},
     "output_type": "display_data"
    },
    {
     "data": {
      "text/plain": [
       "Seconds are a multiple of 3"
      ]
     },
     "metadata": {},
     "output_type": "display_data"
    }
   ],
   "metadata": {
    "dotnet_interactive": {
     "language": "csharp"
    }
   }
  },
  {
   "cell_type": "code",
   "execution_count": null,
   "source": [
    "public class MyTimeDisplay {\r\n",
    "    \r\n",
    "    public string CalculateMessage() {\r\n",
    "\r\n",
    "        var outValue = \"\";\r\n",
    "        \r\n",
    "        var seconds = DateTime.Now.Second;\r\n",
    "        display(\"Current seconds: \" + seconds);\r\n",
    "\r\n",
    "        if (seconds % 2 == 0) {\r\n",
    "            return \"Seconds are even\";\r\n",
    "        } else if (seconds % 3 == 0) {\r\n",
    "            return \"Seconds are a multiple of 3\";\r\n",
    "        } else if (seconds % 5 == 0) {\r\n",
    "            return \"Seconds are a multiple of 5\";\r\n",
    "        }\r\n",
    "        \r\n",
    "        return \"Seconds are neither even nor a multiple of 3\";\r\n",
    "\r\n",
    "    }\r\n",
    "        \r\n",
    "}\r\n",
    "\r\n",
    "var display = new MyTimeDisplay();\r\n",
    "display(display.CalculateMessage());"
   ],
   "outputs": [
    {
     "data": {
      "text/plain": [
       "Current seconds: 40"
      ]
     },
     "metadata": {},
     "output_type": "display_data"
    },
    {
     "data": {
      "text/plain": [
       "Seconds are even"
      ]
     },
     "metadata": {},
     "output_type": "display_data"
    }
   ],
   "metadata": {
    "dotnet_interactive": {
     "language": "csharp"
    }
   }
  },
  {
   "cell_type": "markdown",
   "source": [
    "Testing for one condition is fine...  but what if we have a compound scenario where we need to test for multiple factors before we determine which branch to take?\n",
    "\n",
    "You can chain together conditional tests using the logical OR `|` and the logical AND `&` operators. "
   ],
   "metadata": {}
  },
  {
   "cell_type": "code",
   "execution_count": null,
   "source": [
    "var seconds = DateTime.Now.Second;\r\n",
    "// seconds = 7;\r\n",
    "display(\"Current seconds: \" + seconds);\r\n",
    "\r\n",
    "// Test for BOTH multiple of 2 AND a multiple of 3\r\n",
    "if (seconds % 2 == 0 & seconds % 3 == 0) {\r\n",
    "    display(\"Seconds are even AND a multiple of 3\");\r\n",
    "} else if (seconds % 2 == 0) {\r\n",
    "    display(\"Seconds are even\");\r\n",
    "} else if (seconds % 3 == 0) {\r\n",
    "    display(\"Seconds are a multiple of 3\");\r\n",
    "\r\n",
    "// Test for seconds to be a multiple of 5 OR a multiple of 7\r\n",
    "} else if (seconds % 5 == 0 | seconds % 7 == 0) {\r\n",
    "    display(\"Seconds are a multiple of 5 OR 7\");\r\n",
    "} else {\r\n",
    "    display(\"Seconds are neither even nor a multiple of 3\");\r\n",
    "}"
   ],
   "outputs": [
    {
     "data": {
      "text/plain": [
       "Current seconds: 48"
      ]
     },
     "metadata": {},
     "output_type": "display_data"
    },
    {
     "data": {
      "text/plain": [
       "Seconds are even AND a multiple of 3"
      ]
     },
     "metadata": {},
     "output_type": "display_data"
    }
   ],
   "metadata": {
    "dotnet_interactive": {
     "language": "csharp"
    }
   }
  },
  {
   "cell_type": "markdown",
   "source": [
    "There is another scenario that you will see many developers use to prioritize the compound boolean test inside an if statement, and that is using the 'short circuit' operators `&&` and `||`.  They're referred to as a 'short circuit' operators because they evaluate the first condition on the left and if necessary evaluate the condition on the right side of the operator.\n",
    "\n",
    "The `&&` operator is called the **Conditional Logical AND** operator or referred to as **AndAlso** in Visual Basic.  This operator behaves as follows: \n",
    "\n",
    "1. Evaluate the left-side of the operator\n",
    "1. IF the left-side evaluates to false, return false and stop processing\n",
    "1. ELSE return the result of evaluating the right-side of the operator\n",
    "\n",
    "Here's an example:"
   ],
   "metadata": {}
  },
  {
   "cell_type": "code",
   "execution_count": null,
   "source": [
    "var seconds = DateTime.Now.Second;\r\n",
    "display(\"Current seconds: \" + seconds);\r\n",
    "\r\n",
    "bool MultipleOfThree() {\r\n",
    "    display(\"MultipleOfThree was called\");\r\n",
    "    return seconds % 3 == 0;\r\n",
    "}\r\n",
    "\r\n",
    "if (seconds % 2 == 0 && MultipleOfThree()) {\r\n",
    "    display(\"Seconds are even and a multiple of three\");\r\n",
    "}\r\n",
    "\r\n",
    "if (seconds != null && seconds % 2 == 1) {\r\n",
    "    display(\"Seconds are odd\");\r\n",
    "}\r\n"
   ],
   "outputs": [
    {
     "data": {
      "text/plain": [
       "Current seconds: 43"
      ]
     },
     "metadata": {},
     "output_type": "display_data"
    },
    {
     "data": {
      "text/plain": [
       "Seconds are odd"
      ]
     },
     "metadata": {},
     "output_type": "display_data"
    }
   ],
   "metadata": {
    "dotnet_interactive": {
     "language": "csharp"
    }
   }
  },
  {
   "cell_type": "markdown",
   "source": [
    "In this scenario, if the number of seconds are even then the `MultipleOfThree` method is executed.  If the number of seconds is even and a multiple of three, then it is reported as such.  We can also observe that when the number of seconds is even, the `MultipleOfThree` method is executed because it is reported in the output.\n",
    "\n",
    "The `||` operator is called the **Conditional Logical OR** operator or referred to as the **OrElse** operator by the Visual Basic language.  This operator behaves like the following:\n",
    "\n",
    "1. Evaluate the left-side of the operator\n",
    "1. IF the left-side evaluates to true, return true and stop processing\n",
    "1. ELSE return the result of evaluating the right-side of the operator\n",
    "\n",
    "Here's an example:"
   ],
   "metadata": {}
  },
  {
   "cell_type": "code",
   "execution_count": null,
   "source": [
    "var seconds = DateTime.Now.Second;\r\n",
    "// seconds = 6;\r\n",
    "display(\"Current seconds: \" + seconds);\r\n",
    "\r\n",
    "bool MultipleOfThree() {\r\n",
    "    display(\"MultipleOfThree was called\");\r\n",
    "    return seconds % 3 == 0;\r\n",
    "}\r\n",
    "\r\n",
    "if (seconds % 2 == 0 || MultipleOfThree()) {\r\n",
    "    display(\"Seconds are even or a multiple of three\");\r\n",
    "}"
   ],
   "outputs": [
    {
     "data": {
      "text/plain": [
       "Current seconds: 34"
      ]
     },
     "metadata": {},
     "output_type": "display_data"
    },
    {
     "data": {
      "text/plain": [
       "Seconds are even or a multiple of three"
      ]
     },
     "metadata": {},
     "output_type": "display_data"
    }
   ],
   "metadata": {
    "dotnet_interactive": {
     "language": "csharp"
    }
   }
  },
  {
   "cell_type": "markdown",
   "source": [
    "### Pattern Matching\n",
    "\n",
    "A recent addition to the C# specification is [**Pattern Matching**](https://docs.microsoft.com/dotnet/csharp/pattern-matching?WT.mc_id=visualstudio-twitch-jefritz).  Pattern Matching is the ability to test and match on whether a condition being tested is of a certain shape and optionally assign that value to a variable during the conditional evaluation.\n",
    "\n",
    "The `is` operator is used in the conditional testing process:"
   ],
   "metadata": {}
  },
  {
   "cell_type": "code",
   "execution_count": null,
   "source": [
    "public class Orange {\r\n",
    "    public void MakeJuice() { display(\"Making orange juice\"); }\r\n",
    "}\r\n",
    "public class Apple {\r\n",
    "    public void MakePie() { display(\"Making apple pie\"); }\r\n",
    "}\r\n",
    "\r\n",
    "object fruit = new Orange();\r\n",
    "\r\n",
    "// Is this object an Apple?\r\n",
    "if (fruit is Apple a) {\r\n",
    "    a.MakePie();\r\n",
    "    \r\n",
    "// Is it an Orange?\r\n",
    "} else if (fruit is Orange o) {\r\n",
    "    o.MakeJuice();\r\n",
    "    \r\n",
    "} else {\r\n",
    "    display(\"I don't know what to do with this fruit\");\r\n",
    "}"
   ],
   "outputs": [
    {
     "data": {
      "text/plain": [
       "Making orange juice"
      ]
     },
     "metadata": {},
     "output_type": "display_data"
    }
   ],
   "metadata": {
    "dotnet_interactive": {
     "language": "csharp"
    }
   }
  },
  {
   "cell_type": "markdown",
   "source": [
    "### Conditional Operators\n",
    "\n",
    "There are a number of operators that you can use to perform one-line interactions to conditionally assign values to variables or for using in other expressions.  While these operators make your code shorter and sometimes easier to read, other times it can make for confusing statements when you chain together a number of these operators.  As with any language feature or tool, a little bit goes a long way.\n",
    "\n",
    "####  The Ternary Conditional Operator   ? :\n",
    "\n",
    "The [**Conditional Operator**](https://docs.microsoft.com/dotnet/csharp/language-reference/operators/conditional-operator?WT.mc_id=visualstudio-twitch-jefritz) evaluates the term to the left of the `?` and returns the value between the `?` and `:` if the condition returns true.  It returns the value to the right of the `:` if false.  The following format makes this a little clearer:\n",
    "\n",
    "```\n",
    "is this true ? yes : no\n",
    "```\n",
    "\n",
    "Let's take a look at a sample:"
   ],
   "metadata": {}
  },
  {
   "cell_type": "code",
   "execution_count": null,
   "source": [
    "var seconds = DateTime.Now.Second;\r\n",
    "\r\n",
    "display(\"The current seconds are: \" + seconds);\r\n",
    "// test if the seconds are a multiple of two\r\n",
    "\r\n",
    "//                              if true\r\n",
    "//                                           if false\r\n",
    "var result = seconds % 2 == 0 ?   \"Even\"    : \"Odd\";\r\n",
    "display(result);"
   ],
   "outputs": [
    {
     "data": {
      "text/plain": [
       "The current seconds are: 10"
      ]
     },
     "metadata": {},
     "output_type": "display_data"
    },
    {
     "data": {
      "text/plain": [
       "Even"
      ]
     },
     "metadata": {},
     "output_type": "display_data"
    }
   ],
   "metadata": {
    "dotnet_interactive": {
     "language": "csharp"
    }
   }
  },
  {
   "cell_type": "code",
   "execution_count": null,
   "source": [
    "// You can chain conditional operators too\r\n",
    "var seconds = DateTime.Now.Second;\r\n",
    "display(\"The current seconds are: \" + seconds);\r\n",
    "\r\n",
    "string CheckMultipleOfThree(int seconds) {\r\n",
    "    return seconds % 3 == 0 ? \"Even and Multiple of 3\" : \"Even\";\r\n",
    "}\r\n",
    "\r\n",
    "// be careful as this starts to become unreadable\r\n",
    "var result = seconds % 2 == 0 ? \r\n",
    "    (seconds % 3 == 0 ? \"Even and Multiple of 3\" : \"Even\") \r\n",
    "    : \"Odd\";\r\n",
    "//var result = seconds % 2 == 0 ? CheckMultipleOfThree(seconds) : \"Odd\";\r\n",
    "\r\n",
    "display(result);\r\n",
    "\r\n",
    "var multipleOfThree = (seconds % 3 == 0 ? \"Even and Multiple of 3\" : \"Even\" );\r\n",
    "display(seconds % 2 == 0 ? multipleOfThree : \"Odd\");"
   ],
   "outputs": [
    {
     "data": {
      "text/plain": [
       "The current seconds are: 54"
      ]
     },
     "metadata": {},
     "output_type": "display_data"
    },
    {
     "data": {
      "text/plain": [
       "Even and Multiple of 3"
      ]
     },
     "metadata": {},
     "output_type": "display_data"
    },
    {
     "data": {
      "text/plain": [
       "Even and Multiple of 3"
      ]
     },
     "metadata": {},
     "output_type": "display_data"
    }
   ],
   "metadata": {
    "dotnet_interactive": {
     "language": "csharp"
    }
   }
  },
  {
   "cell_type": "markdown",
   "source": [
    "#### The Null-Coalescing Operator ??\r\n",
    "\r\n",
    "The [**Null-coalescing operator**](https://docs.microsoft.com/dotnet/csharp/language-reference/operators/null-coalescing-operator?WT.mc_id=visualstudio-twitch-jefritz) allows us to inspect the value to the left of the `??` and if that value is null, return the value to the right of the `??`.  You can even combine this with an equals sign `=` to assign a value of the left side is null.\r\n",
    "\r\n",
    "This is MUCH simpler than the syntax you would have to use if the operator was not available:\r\n",
    "\r\n",
    "```\r\n",
    "var output = (myValue != null) ? myValue : some_other_value;\r\n",
    "```\r\n",
    "\r\n",
    "Let's try it:"
   ],
   "metadata": {}
  },
  {
   "cell_type": "code",
   "execution_count": null,
   "source": [
    "string myValue = \"test\";\r\n",
    "\r\n",
    "display(myValue ?? \"It's null\");"
   ],
   "outputs": [
    {
     "data": {
      "text/plain": [
       "test"
      ]
     },
     "metadata": {},
     "output_type": "display_data"
    }
   ],
   "metadata": {
    "dotnet_interactive": {
     "language": "csharp"
    }
   }
  },
  {
   "cell_type": "markdown",
   "source": [
    "#### The Null-Conditional Operator ?.\n",
    "\n",
    "What happens if you want to work with an object, but you're not sure if it is null.  The [**Null-Conditional Operator**](https://docs.microsoft.com/dotnet/csharp/language-reference/operators/member-access-operators#null-conditional-operators--and-?WT.mc_id=visualstudio-twitch-jefritz) allows you to test if the object is null and conditionally continue execution.\n",
    "\n",
    "<div class=\"alert alert-block alert-info\">Early in development of this operator, it was sometimes referred to as the 'Elvis Operator' for the appearance of a curly hair above two eyes.</div>\n",
    "\n",
    "If the object is null, the expression evaluates to null.  This may be inconvenient in our processing, but we can use some of our other operators to help structure our code:"
   ],
   "metadata": {}
  },
  {
   "cell_type": "code",
   "execution_count": null,
   "source": [
    "public class Student {\r\n",
    "    public string Name { get; set; }\r\n",
    "    public string Hello() { return \"World!\"; }\r\n",
    "}\r\n",
    "\r\n",
    "//Student s = null;\r\n",
    "Student s = new Student { Name=\"Fritz\"};\r\n",
    "\r\n",
    "//                          if s is null, return null\r\n",
    "//                          else evaluate the Name property\r\n",
    "display(\"Our student's name is: \" + s?.Name);\r\n",
    "\r\n",
    "display(s?.Hello());\r\n",
    "\r\n",
    "//                          if s is not null, evaluate the Name property\r\n",
    "//                          else return the string 'Student is not assigned yet'\r\n",
    "display(\"Our student's name is: \" + (s?.Name ?? \"Student is not assigned yet\"));"
   ],
   "outputs": [
    {
     "data": {
      "text/plain": [
       "Our student's name is: Fritz"
      ]
     },
     "metadata": {},
     "output_type": "display_data"
    },
    {
     "data": {
      "text/plain": [
       "World!"
      ]
     },
     "metadata": {},
     "output_type": "display_data"
    },
    {
     "data": {
      "text/plain": [
       "Our student's name is: Fritz"
      ]
     },
     "metadata": {},
     "output_type": "display_data"
    }
   ],
   "metadata": {
    "dotnet_interactive": {
     "language": "csharp"
    }
   }
  },
  {
   "cell_type": "markdown",
   "source": [
    "## Switch Statements \n",
    "\n",
    "Sometimes we have a LOT of conditions and branches that we want to evaluate and potentially traverse in our code.  The [**switch statement**](https://docs.microsoft.com/dotnet/csharp/language-reference/keywords/switch?WT.mc_id=visualstudio-twitch-jefritz) allows you to configure using the `switch`, `case`, `break`, and `default` statements the various branches you could potentially step down.\n",
    "\n",
    "Use `switch (test expression)` to perform your test.  Then use a series of `case (result):` statements to provide the various branching code paths to potentially execute.  You can allow processing to 'fall out' of one statement into the next, and even provide a `default` branch at the end to ensure a branch is executed if none of the cases are matched. \n",
    "\n",
    "Let's look at a real example:   "
   ],
   "metadata": {}
  },
  {
   "cell_type": "code",
   "execution_count": null,
   "source": [
    "var dayOfTheWeek = DateTime.Now.DayOfWeek;\r\n",
    "dayOfTheWeek = DayOfWeek.Friday;\r\n",
    "\r\n",
    "switch (dayOfTheWeek) {\r\n",
    "    case DayOfWeek.Monday:\r\n",
    "        display(\"Does somebody have a case of the Mondays?\");\r\n",
    "        break;\r\n",
    "    case DayOfWeek.Tuesday:\r\n",
    "        display(\"It's TACO TUESDAY at the cafe!\");\r\n",
    "        break;\r\n",
    "    case DayOfWeek.Wednesday:\r\n",
    "        display(\"Middle of the work-week... almost done!\");\r\n",
    "        break;\r\n",
    "    case DayOfWeek.Thursday:\r\n",
    "        display(\"Friday is ALMOST HERE!!\");\r\n",
    "        break;\r\n",
    "    case DayOfWeek.Friday:\r\n",
    "        display(\"The weekend starts.... NOW!\");\r\n",
    "        break;\r\n",
    "    case DayOfWeek.Saturday:\r\n",
    "        display(\"Relaxing... no school, no work...\");\r\n",
    "        break;\r\n",
    "    case DayOfWeek.Sunday:\r\n",
    "        display(\"School and work tomorrow?  Better have some fun NOW!\");\r\n",
    "        break;\r\n",
    "    default:\r\n",
    "        display(\"I don't care what day of the week it is... we're on HOLIDAY!\");\r\n",
    "        break;\r\n",
    "}\r\n"
   ],
   "outputs": [
    {
     "data": {
      "text/plain": [
       "The weekend starts.... NOW!"
      ]
     },
     "metadata": {},
     "output_type": "display_data"
    }
   ],
   "metadata": {
    "dotnet_interactive": {
     "language": "csharp"
    }
   }
  },
  {
   "cell_type": "markdown",
   "source": [
    "We can add additional tests for `case` statements using a `when` clause as well:"
   ],
   "metadata": {}
  },
  {
   "cell_type": "code",
   "execution_count": null,
   "source": [
    "var dayOfTheWeek = DateTime.Now.DayOfWeek;\r\n",
    "var hourOfDay = DateTime.Now.Hour;\r\n",
    "    \r\n",
    "/*  Extra conditions to test with */\r\n",
    "//dayOfTheWeek = DayOfWeek.Friday;\r\n",
    "hourOfDay = 7;\r\n",
    "/* */\r\n",
    "\r\n",
    "switch (dayOfTheWeek) {\r\n",
    "    case DayOfWeek.Monday:\r\n",
    "    case DayOfWeek.Tuesday:\r\n",
    "    case DayOfWeek.Wednesday:\r\n",
    "    case DayOfWeek.Thursday:\r\n",
    "    case DayOfWeek.Friday when hourOfDay < 16:\r\n",
    "        display(\"Work work work...\");\r\n",
    "        break;\r\n",
    "    case DayOfWeek.Friday when (hourOfDay >= 16 && false):\r\n",
    "        display(\"The weekend starts.... NOW!\");\r\n",
    "        break;\r\n",
    "    case DayOfWeek.Saturday:\r\n",
    "    case DayOfWeek.Sunday:\r\n",
    "        display(\"Relaxing... no school, no work...\");\r\n",
    "        break;\r\n",
    "}\r\n"
   ],
   "outputs": [
    {
     "data": {
      "text/plain": [
       "Work work work..."
      ]
     },
     "metadata": {},
     "output_type": "display_data"
    }
   ],
   "metadata": {
    "dotnet_interactive": {
     "language": "csharp"
    }
   }
  },
  {
   "cell_type": "markdown",
   "source": [
    "Switch statements can also be used with Pattern Matching to provide a similar test and optional conversion to a type. "
   ],
   "metadata": {}
  },
  {
   "cell_type": "markdown",
   "source": [
    "### Switch Expressions\n",
    "\n",
    "What is we want a similar conditional expression, but with the power of `switch` as a simple express to interact with our variable types?  [**Switch Expressions**](https://docs.microsoft.com/dotnet/csharp/language-reference/operators/switch-expression?WT.mc_id=visualstudio-twitch-jefritz) allow us to interact with those types.  Starting with C# 8, [available only with .NET Core 3+ and .NET Standard 2.1+](https://docs.microsoft.com/dotnet/csharp/whats-new/csharp-8?WT.mc_id=visualstudio-twitch-jefritz), you can interact with these expressions. \n",
    "\n",
    "Use the same `switch` keyword, with the value that you are evaluating and list each potential branch separated by commas `,`"
   ],
   "metadata": {}
  },
  {
   "cell_type": "code",
   "execution_count": null,
   "source": [
    "var dayOfWeek = DateTime.Now.DayOfWeek;\r\n",
    "display(dayOfWeek);\r\n",
    "\r\n",
    "/* \r\n",
    "\r\n",
    "QUESTION:  How to format multi-line expression bodied members?\r\n",
    "\r\n",
    "var message = dayOfWeek switch {\r\n",
    "    DayOfWeek.Monday     => \"I've got a case of the Mondays\",\r\n",
    "    DayOfWeek.Friday     => \"It's FRI-YAY!!!\",\r\n",
    "    _                    => \"Default statement\"\r\n",
    "};\r\n",
    "\r\n",
    "display(message);\r\n",
    "*/"
   ],
   "outputs": [
    {
     "data": {
      "text/html": [
       "<span>Monday</span>"
      ]
     },
     "metadata": {},
     "output_type": "display_data"
    }
   ],
   "metadata": {
    "dotnet_interactive": {
     "language": "csharp"
    }
   }
  },
  {
   "cell_type": "markdown",
   "source": [
    "## For Loops\n",
    "\n",
    "[For loops](https://docs.microsoft.com/dotnet/csharp/language-reference/keywords/for?WT.mc_id=visualstudio-twitch-jefritz) are a looping statement that allow you to repeat a block of code depending on a counter expression.  The for statement takes the general form:\n",
    "\n",
    "`for (Initializer; Condition; Iterator) { CODE TO EXECUTE }`\n",
    "\n",
    "The `Initializer` typically initializes a counter variable to be worked with.  \n",
    "\n",
    "The `Condition` is a test to be executed at the beginning of each attempt to execute the code block.  If the `Condition` evaluates to `true` then the code block will be executed.\n",
    "\n",
    "The optional `Iterator` code executes after each loop and typically increments the initialized variable , stepping towards the end value.\n",
    "\n",
    "Typical use for the `for` statement looks similar to the following, where 5 is an arbitrary number to stop counting at.\n",
    "\n",
    "```\n",
    "for (var i=0; i<5; i++) {\n",
    "\n",
    "}\n",
    "```\n",
    "\n",
    "In practice it works like this:"
   ],
   "metadata": {}
  },
  {
   "cell_type": "code",
   "execution_count": null,
   "source": [
    "for (var counter=0; counter<5; counter++) {\r\n",
    "    display(\"Counting \" + counter);\r\n",
    "}"
   ],
   "outputs": [
    {
     "data": {
      "text/plain": [
       "Counting 0"
      ]
     },
     "metadata": {},
     "output_type": "display_data"
    },
    {
     "data": {
      "text/plain": [
       "Counting 1"
      ]
     },
     "metadata": {},
     "output_type": "display_data"
    },
    {
     "data": {
      "text/plain": [
       "Counting 2"
      ]
     },
     "metadata": {},
     "output_type": "display_data"
    },
    {
     "data": {
      "text/plain": [
       "Counting 3"
      ]
     },
     "metadata": {},
     "output_type": "display_data"
    },
    {
     "data": {
      "text/plain": [
       "Counting 4"
      ]
     },
     "metadata": {},
     "output_type": "display_data"
    }
   ],
   "metadata": {
    "dotnet_interactive": {
     "language": "csharp"
    }
   }
  },
  {
   "cell_type": "markdown",
   "source": [
    "Loops can even count backwards!  This is because the iterator expression at the end of the `for` statement can execute any code.  Let's try it with the `-=` operator:"
   ],
   "metadata": {}
  },
  {
   "cell_type": "code",
   "execution_count": null,
   "source": [
    "for (var counter=5; counter>0; counter-= 3) {\r\n",
    "    display(\"Counting \" + counter);\r\n",
    "}\r\n",
    "\r\n",
    "//display(counter)"
   ],
   "outputs": [
    {
     "data": {
      "text/plain": [
       "Counting 5"
      ]
     },
     "metadata": {},
     "output_type": "display_data"
    },
    {
     "data": {
      "text/plain": [
       "Counting 2"
      ]
     },
     "metadata": {},
     "output_type": "display_data"
    }
   ],
   "metadata": {
    "dotnet_interactive": {
     "language": "csharp"
    }
   }
  },
  {
   "cell_type": "markdown",
   "source": [
    "<div class=\"alert alert-block alert-danger\">\n",
    "<b>WARNING:</b> You can write infinite loops using the `for` statement.  The following block contains an infinite loop.  Be prepared to stop the Jupyter notebook and restart it after you remove the loop.\n",
    "</div>"
   ],
   "metadata": {}
  },
  {
   "cell_type": "code",
   "execution_count": null,
   "source": [
    "display(\"this is an infinite loop... be ready to kill your notebook with the STOP button above\");\r\n",
    "/*\r\n",
    "for (var counter=1; counter>0; counter++) {\r\n",
    "    display(\"Counting \" + counter);\r\n",
    "}\r\n",
    "*/"
   ],
   "outputs": [],
   "metadata": {
    "dotnet_interactive": {
     "language": "csharp"
    }
   }
  },
  {
   "cell_type": "markdown",
   "source": [
    "### Break Statement in For loops\n",
    "\n",
    "If you need to exit a loop and continue processing, you can execute the `break` statement.  \n",
    "\n",
    "In the following loop, it is configured to run forever with the `counter` value starting at `1` and continuing as long as the `counter > 0`.  The `break` statement will be triggered once the `counter` crosses `10`."
   ],
   "metadata": {}
  },
  {
   "cell_type": "code",
   "execution_count": null,
   "source": [
    "for (var counter=1; counter>0; counter++) {\r\n",
    "    display(\"Counting \" + counter);\r\n",
    "    \r\n",
    "    if (counter > 10) break;\r\n",
    "    \r\n",
    "}"
   ],
   "outputs": [
    {
     "data": {
      "text/plain": [
       "Counting 1"
      ]
     },
     "metadata": {},
     "output_type": "display_data"
    },
    {
     "data": {
      "text/plain": [
       "Counting 2"
      ]
     },
     "metadata": {},
     "output_type": "display_data"
    },
    {
     "data": {
      "text/plain": [
       "Counting 3"
      ]
     },
     "metadata": {},
     "output_type": "display_data"
    },
    {
     "data": {
      "text/plain": [
       "Counting 4"
      ]
     },
     "metadata": {},
     "output_type": "display_data"
    },
    {
     "data": {
      "text/plain": [
       "Counting 5"
      ]
     },
     "metadata": {},
     "output_type": "display_data"
    },
    {
     "data": {
      "text/plain": [
       "Counting 6"
      ]
     },
     "metadata": {},
     "output_type": "display_data"
    },
    {
     "data": {
      "text/plain": [
       "Counting 7"
      ]
     },
     "metadata": {},
     "output_type": "display_data"
    },
    {
     "data": {
      "text/plain": [
       "Counting 8"
      ]
     },
     "metadata": {},
     "output_type": "display_data"
    },
    {
     "data": {
      "text/plain": [
       "Counting 9"
      ]
     },
     "metadata": {},
     "output_type": "display_data"
    },
    {
     "data": {
      "text/plain": [
       "Counting 10"
      ]
     },
     "metadata": {},
     "output_type": "display_data"
    },
    {
     "data": {
      "text/plain": [
       "Counting 11"
      ]
     },
     "metadata": {},
     "output_type": "display_data"
    }
   ],
   "metadata": {
    "dotnet_interactive": {
     "language": "csharp"
    }
   }
  },
  {
   "cell_type": "markdown",
   "source": [
    "### For-Each Loops\n",
    "\n",
    "We haven't covered collections yet, but you can run a for loop across all of the items in the collection (like an array) and interact with each of those items directly.  The [`foreach` statement](https://docs.microsoft.com/dotnet/csharp/language-reference/keywords/foreach-in?WT.mc_id=visualstudio-twitch-jefritz) will run the contents of the loop and pass into your varaible each element in the collection, one at a time.\n",
    "\n",
    "Let's look at an example:"
   ],
   "metadata": {}
  },
  {
   "cell_type": "code",
   "execution_count": null,
   "source": [
    "string[] arrNames = new string[] { \"Fritz\", \"Scott\", \"Maria\", \r\n",
    "    \"Jayme\", \"Maira\", \"James\"};\r\n",
    "\r\n",
    "foreach (var name in arrNames) {\r\n",
    "    display(name);\r\n",
    "}\r\n"
   ],
   "outputs": [
    {
     "data": {
      "text/plain": [
       "Fritz"
      ]
     },
     "metadata": {},
     "output_type": "display_data"
    },
    {
     "data": {
      "text/plain": [
       "Scott"
      ]
     },
     "metadata": {},
     "output_type": "display_data"
    },
    {
     "data": {
      "text/plain": [
       "Maria"
      ]
     },
     "metadata": {},
     "output_type": "display_data"
    },
    {
     "data": {
      "text/plain": [
       "Jayme"
      ]
     },
     "metadata": {},
     "output_type": "display_data"
    },
    {
     "data": {
      "text/plain": [
       "Maira"
      ]
     },
     "metadata": {},
     "output_type": "display_data"
    },
    {
     "data": {
      "text/plain": [
       "James"
      ]
     },
     "metadata": {},
     "output_type": "display_data"
    }
   ],
   "metadata": {
    "dotnet_interactive": {
     "language": "csharp"
    }
   }
  },
  {
   "cell_type": "markdown",
   "source": [
    "The `foreach` statement is _functionally_ the same as the following `for` loop with an iterator:"
   ],
   "metadata": {}
  },
  {
   "cell_type": "code",
   "execution_count": null,
   "source": [
    "for (var nameCounter = 0; nameCounter < arrNames.Length; nameCounter++) {\r\n",
    "    display(arrNames[nameCounter]);\r\n",
    "}"
   ],
   "outputs": [],
   "metadata": {
    "dotnet_interactive": {
     "language": "csharp"
    }
   }
  },
  {
   "cell_type": "markdown",
   "source": [
    "These looping statements also work with reference types like our `Student` class that we created above:"
   ],
   "metadata": {}
  },
  {
   "cell_type": "code",
   "execution_count": null,
   "source": [
    "var students = new Student[] { \r\n",
    "    new Student { Name = \"Fritz\"}, \r\n",
    "    new Student {Name=\"Mr__Anderson\"}\r\n",
    "};\r\n",
    "\r\n",
    "foreach (var student in students) {\r\n",
    "    display(student.Name);\r\n",
    "}\r\n"
   ],
   "outputs": [
    {
     "data": {
      "text/plain": [
       "Fritz"
      ]
     },
     "metadata": {},
     "output_type": "display_data"
    },
    {
     "data": {
      "text/plain": [
       "Mr__Anderson"
      ]
     },
     "metadata": {},
     "output_type": "display_data"
    }
   ],
   "metadata": {
    "dotnet_interactive": {
     "language": "csharp"
    }
   }
  },
  {
   "cell_type": "markdown",
   "source": [
    "Also remember, strings are character arrays.  Consequently we can iterate over each character in the string as well:"
   ],
   "metadata": {}
  },
  {
   "cell_type": "code",
   "execution_count": null,
   "source": [
    "var name = \"Fritz\";\r\n",
    "\r\n",
    "foreach (var letter in name) {\r\n",
    "    display(letter);\r\n",
    "}"
   ],
   "outputs": [
    {
     "data": {
      "text/html": [
       "<div class=\"dni-plaintext\">F</div>"
      ]
     },
     "metadata": {},
     "output_type": "display_data"
    },
    {
     "data": {
      "text/html": [
       "<div class=\"dni-plaintext\">r</div>"
      ]
     },
     "metadata": {},
     "output_type": "display_data"
    },
    {
     "data": {
      "text/html": [
       "<div class=\"dni-plaintext\">i</div>"
      ]
     },
     "metadata": {},
     "output_type": "display_data"
    },
    {
     "data": {
      "text/html": [
       "<div class=\"dni-plaintext\">t</div>"
      ]
     },
     "metadata": {},
     "output_type": "display_data"
    },
    {
     "data": {
      "text/html": [
       "<div class=\"dni-plaintext\">z</div>"
      ]
     },
     "metadata": {},
     "output_type": "display_data"
    }
   ],
   "metadata": {
    "dotnet_interactive": {
     "language": "csharp"
    }
   }
  },
  {
   "cell_type": "markdown",
   "source": [
    "## While and Do Loops\n",
    "\n",
    "`while` and `do` loops have almost identical structure and perform the same task.  You provide a test condition over which the contents of the loop should continue to be executed.  The [`while` loop](https://docs.microsoft.com/en-us/dotnet/csharp/language-reference/keywords/while?WT.mc_id=visualstudio-twitch-jefritz) executes the test _FIRST_ before the loop statements, and the [`do` loop](https://docs.microsoft.com/en-us/dotnet/csharp/language-reference/keywords/do?WT.mc_id=visualstudio-twitch-jefritz) executes the test _AFTER_ the statements.\n",
    "\n",
    "Consider the examples of each statement below.  The each start with a `counter` value of `6`. Only the `do` loop executes and the `while` loop does not execute as the test fails immediately.\n"
   ],
   "metadata": {}
  },
  {
   "cell_type": "code",
   "execution_count": null,
   "source": [
    "var counter = 4;\r\n",
    "\r\n",
    "while (counter < 5) {\r\n",
    "    counter++;\r\n",
    "    display(counter);\r\n",
    "}"
   ],
   "outputs": [
    {
     "data": {
      "text/html": [
       "<div class=\"dni-plaintext\">5</div>"
      ]
     },
     "metadata": {},
     "output_type": "display_data"
    }
   ],
   "metadata": {
    "dotnet_interactive": {
     "language": "csharp"
    }
   }
  },
  {
   "cell_type": "code",
   "execution_count": null,
   "source": [
    "var counter = 4;\r\n",
    "\r\n",
    "do {\r\n",
    "    counter++;\r\n",
    "    display(counter);\r\n",
    "} while (counter < 5);"
   ],
   "outputs": [
    {
     "data": {
      "text/html": [
       "<div class=\"dni-plaintext\">5</div>"
      ]
     },
     "metadata": {},
     "output_type": "display_data"
    }
   ],
   "metadata": {
    "dotnet_interactive": {
     "language": "csharp"
    }
   }
  }
 ],
 "metadata": {
  "kernelspec": {
   "display_name": ".NET (C#)",
   "language": "C#",
   "name": ".net-csharp"
  },
  "language_info": {
   "file_extension": ".cs",
   "mimetype": "text/x-csharp",
   "name": "C#",
   "pygments_lexer": "csharp",
   "version": "8.0"
  }
 },
 "nbformat": 4,
 "nbformat_minor": 4
}